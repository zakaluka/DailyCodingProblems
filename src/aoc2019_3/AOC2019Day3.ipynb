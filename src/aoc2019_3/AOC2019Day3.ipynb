{
 "cells": [
  {
   "cell_type": "markdown",
   "metadata": {},
   "source": [
    "# Advent of Code 2019 Day 3 - Intersections and Manhattan Distance\n",
    "\n",
    "The problem for Day 3 provides a series of line segments and asks for the closest intersection to the starting point.  The full problem statement can be found on the [Advent of Code][1] website.  The key portions of the problem statement are below.\n",
    "\n",
    "## Day 3a\n",
    "\n",
    "> ... two wires are connected to a central port and extend outward on a grid. You trace the path each wire takes as it leaves the central port, one wire per line of text (your puzzle input).\n",
    ">\n",
    "> The wires twist and turn, but the two wires occasionally cross paths. To fix the circuit, you need to find the intersection point closest to the central port. Because the wires are on a grid, use the Manhattan distance for this measurement. ...\n",
    "\n",
    "# Solution - Day 3a\n",
    "\n",
    "There are a few items to consider in the problem statement.  \n",
    "\n",
    "1. We are not interested in situations where a single wire intersects with itself.\n",
    "1. Intersections are between [line segments][2], not lines (which are a geometric construct).  In short, a line segment is a finite portion of a line with a start point, an end point, and a length.  The implication is that there are situations where two lines may intersect but line segments on those lines do not.\n",
    "1. The wires are on a grid and we have to use [Manhattan distance][3] to calculate the distance from the central port. Manhattan distance or Taxicab geometry states that the distance between two points \"is the sum of the absolute differences of their Cartesian coordinates\".  For example, the distance from `(1,2)` to `(7,8)` is `12` (`|7-1|+|8-2|`)."
   ]
  },
  {
   "cell_type": "markdown",
   "metadata": {},
   "source": [
    "[1] https://adventofcode.com/2019/day/3\n",
    "[2] http://www.differencebetween.net/science/difference-between-line-and-line-segment/\n",
    "[3] https://en.wikipedia.org/wiki/Taxicab_geometry\n",
    "[4] https://en.wikipedia.org/wiki/Bentley%E2%80%93Ottmann_algorithm\n",
    "[5] https://en.wikibooks.org/wiki/F_Sharp_Programming/Advanced_Data_Structures#Red_Black_Trees\n",
    "[6] https://www.cs.princeton.edu/~rs/talks/LLRB/LLRB.pdf\n",
    "[7] https://github.com/kazu-yamamoto/llrbtree/blob/master/Data/Set/LLRBTree.hs\n",
    "[8] https://github.com/Skinney/core/blob/master/src/Dict.elm"
   ]
  },
  {
   "cell_type": "code",
   "execution_count": 5,
   "metadata": {},
   "outputs": [
    {
     "name": "stdout",
     "output_type": "stream",
     "text": [
      "5\n"
     ]
    },
    {
     "data": {
      "text/html": [
       "<null>"
      ]
     },
     "execution_count": 5,
     "metadata": {},
     "output_type": "execute_result"
    }
   ],
   "source": [
    "/// implement:\n",
    "/// https://github.com/pgkelley4/line-segments-intersect/blob/master/js/line-segments-intersect.js\n",
    "/// https://stackoverflow.com/questions/563198/how-do-you-detect-where-two-line-segments-intersect\n",
    "/// https://www.geeksforgeeks.org/check-if-two-given-line-segments-intersect/\n",
    "/// https://stackoverflow.com/questions/563198/how-do-you-detect-where-two-line-segments-intersect/565282#565282\n",
    "/// https://bell0bytes.eu/intersection-of-line-segments/\n",
    "/// https://en.wikipedia.org/wiki/Line_segment_intersection\n",
    "/// https://stackoverflow.com/questions/385305/efficient-maths-algorithm-to-calculate-intersections\n",
    "/// http://mathonline.wikidot.com/finding-points-of-intersection-of-two-lines\n",
    "/// \n",
    "/// https://en.wikipedia.org/wiki/Taxicab_geometry\n",
    "/// https://en.wikipedia.org/wiki/Bentley–Ottmann_algorithm\n",
    "\n",
    "let x = 5\n",
    "\n",
    "printfn \"%d\" x"
   ]
  },
  {
   "cell_type": "markdown",
   "metadata": {},
   "source": [
    "## Strategies\n",
    "\n",
    "There are two ways to solve the problem for 3a.\n",
    "\n",
    "1. Create the line segments for each wire, and check which line segments intersect.  For this, we can use the [Bentley-Ottmann algorithm][4].\n",
    "1. Find all the integer-coordinates covered by the line segments.  Check which coordinates are the same in both sets.\n",
    "\n",
    "## Solution 3a.1 - Bentley-Ottmann algorithm\n",
    "\n",
    "The [Bentley-Ottmann algorithm][4] is a \"sweep line algorithm for listing all crossings in a set of line segments, i.e. it finds the intersection points (or, simply, intersections) of line segments\".  The complexity of the algorithm is as follows, given `n` input line segments and `k` crossings:\n",
    "\n",
    "- Time complexity: `O((n + k) log n)`\n",
    "- Space complexity: `O(n)`\n",
    "\n",
    "From a space perspective, the algorithm uses two data structures:\n",
    "\n",
    "- The sweep line status tree (balanced binary search tree) that holds the line segments that cross the sweep line, ordered by the `y` coordinates of the intersection points.\n",
    "    - This can be represented by a red-black tree or similar tree that has logarithmic time complexity (`O(log n)`) for inserts, deletes, and searches.\n",
    "- The event queue (priority queue) that holds the sequence of potential future events (represented as points which are either line segment endpoints or cross points).  An event occurs when the sweep line sweeps over the point.  It is prioritized by the `x` coordinates of the points.\n",
    "    - This can be represented by a binary heap or similar logarithmic-time priority queue.\n",
    "\n",
    "The following is the logic and pseudo-code for the algorithm:\n",
    "\n",
    "1. Initialize `Q` (priority queue) with the endpoints of all the input segments.\n",
    "1. Initialize `T` (binary search tree) as an empty tree.\n",
    "1. While `Q` is not empty,\n",
    "    1. Get `p` based on minimum x-coordinate.\n",
    "    1. If `p` = left endpoint of segment `s`,\n",
    "        1. Insert `s` into `T`.\n",
    "        1. Find segments `r` and `t`, which are above and below `s` in `T` (if they exist).\n",
    "        1. If `r` crosses `t`,\n",
    "            1. Remove that event from `Q`.\n",
    "        1. If `s` crosses `r` or `t`,\n",
    "            1. Add those crossing points to `Q`.\n",
    "    1. If `p` = right endpoint of segment `s`,\n",
    "        1. Remove `s` from `T`.\n",
    "        1. Find segments `r` and `t`, which were above and below `s` in `T` prior to removal (if they exist).\n",
    "        1. If `r` crosses `t`,\n",
    "            1. Add that cross point to `Q`.\n",
    "    1. If `p` = crossing point of segments `s` and `t` (`s` below `t` to the left of the crossing),\n",
    "        1. Swap the position of `s` and `t` in `T`.\n",
    "        1. Find segments `r` and `u`, which are above and below `s` and `t`, respectively.\n",
    "        1. If `r` crosses `s`,\n",
    "            1. Remove that event from `Q`.\n",
    "        1. If `t` crosses `u`,\n",
    "            1. Remove that event from `Q`.\n",
    "        1. If `r` crosses `t`,\n",
    "            1. Add that event to `Q`.\n",
    "        1. If `s` crosses `u`,\n",
    "            1. Add that event to `Q`.\n",
    "\n",
    "The original algorithm makes certain assumptions which must be handled.  These include:\n",
    "\n",
    "- No two endpoints or crossings should have the same `x` coordinate.\n",
    "    - If two event points have the same `x` coordinate, prioritize the events using their `y` coordinates.\n",
    "- No segment's endpoint should lie on another segment\n",
    "    - If two segments share an endpoint or a segment contains the endpoint of another segments, count this as an intersection of two line segments.\n",
    "- No three (or more) segments should intersect at a single point.\n",
    "    - If multiple segments intersect at the same point, create and process only a single event point for that intersection.  This means:\n",
    "        - Remove segments from the tree for which this point is the right endpoint.\n",
    "        - Insert segments into the tree for which this point is the left endpoint.\n",
    "        - Reverse the order of the remaining segments containing this point.\n",
    "\n",
    "For this problem, we are only dealing with perfectly vertical and horizontal lines, and integer coordinates.  As such, there should be no issues related to numerical precision.\n",
    "\n",
    "The solution starts with the [data structures][5].  However, for this problem, I chose a [left-leaning red-black tree][6] based on [Haskell][7] and [Elm][8] implementations.  The F# repository linked from the Wikipedia page appears to have been deleted.  Left-leaning red-black trees are considered slightly easier to implement as they reduce the number of variations that need to be accounted for in different methods."
   ]
  },
  {
   "cell_type": "code",
   "execution_count": 3,
   "metadata": {},
   "outputs": [
    {
     "name": "stderr",
     "output_type": "stream",
     "text": [
      "Stopped due to error\n"
     ]
    },
    {
     "ename": "Unhandled exception",
     "evalue": "input.fsx (27,1)-(27,7) parse error Incomplete structured construct at or before this point in binding\ninput.fsx (5,1)-(5,10) typecheck error This value is not a function and cannot be applied.\ninput.fsx (23,38)-(23,39) typecheck error Type mismatch. Expecting a\n    ''a tree'    \nbut given a\n    ''a'    \nThe types ''a' and ''a tree' cannot be unified.\ninput.fsx (26,17)-(26,25) typecheck warning Incomplete pattern matches on this expression.",
     "output_type": "error",
     "traceback": [
      "input.fsx (27,1)-(27,7) parse error Incomplete structured construct at or before this point in binding\ninput.fsx (5,1)-(5,10) typecheck error This value is not a function and cannot be applied.\ninput.fsx (23,38)-(23,39) typecheck error Type mismatch. Expecting a\n    ''a tree'    \nbut given a\n    ''a'    \nThe types ''a' and ''a tree' cannot be unified.\ninput.fsx (26,17)-(26,25) typecheck warning Incomplete pattern matches on this expression."
     ]
    }
   ],
   "source": [
    "// Possible colors of nodes.\n",
    "type Color = R | B  \n",
    "\n",
    "type 'a tree =\n",
    "  | E\n",
    "  | T of Color *  * 'a * 'a tree * 'a tree\n",
    "\n",
    "module Tree =\n",
    "  let hd = function\n",
    "    | E -> failwith \"Empty tree\"\n",
    "    | T(_, _, x, _) -> x\n",
    "\n",
    "  let left = function\n",
    "    | E -> failwith \"Empty tree\"\n",
    "    | T(_, l, _, _) -> l\n",
    "\n",
    "  let right = function\n",
    "    | E -> failwith \"Empty tree\"\n",
    "    | T(_, _, _, r) -> r\n",
    "\n",
    "  let rec exists item = function\n",
    "    | E -> false\n",
    "    | T(_, l, x, r) ->\n",
    "      if item = x then true\n",
    "      elif item < x then exists item l\n",
    "      else exists item r\n",
    "\n",
    "  let balance = function\n",
    "    | B, T (R, T (R,a,x,b), y, c), z, d\n",
    "    | B, T (R, a, x, T (R,b,y,c)), z, d\n",
    "    | B, a, x, T (R, T (R,b,y,c), z, d)\n",
    "    | B, a, x, T (R, b, y, T (R,c,z,d)) -> \n",
    "      T (R, T (B,a,x,b), y, T (B,c,z,d))\n",
    "    | col, a, x, b -> T (col, a, x, b) \n",
    "\n",
    "  let insert elt t =\n",
    "    let rec ins = function\n",
    "      | E -> T(R, E, elt, E)\n",
    "      | T(c, a, y, b) as node ->\n",
    "        if item = y then node\n",
    "        elif item < y then balance(c, ins a, y, b)\n",
    "        else balance(c, a, y, ins b)\n",
    "      \n",
    "    match ins t with\n",
    "      | E -> failwith \"Should never return empty from an insert\"\n",
    "      | T(_, l, x, r) -> T(B, l, x, r)\n",
    "          \n",
    "  let delete elt t =\n",
    "    "
   ]
  },
  {
   "cell_type": "code",
   "execution_count": null,
   "metadata": {},
   "outputs": [],
   "source": []
  },
  {
   "cell_type": "markdown",
   "metadata": {},
   "source": [
    "\n",
    "## Solution 3a.2 - Check discrete coordinates\n",
    "\n",
    "For this solution, we must construct a set of all the discrete (integer) coordinates that a wire goes through."
   ]
  },
  {
   "cell_type": "code",
   "execution_count": null,
   "metadata": {},
   "outputs": [],
   "source": [
    "\n",
    "\n",
    "let moveToCoords startPoint direction distance =\n",
    "  x\n",
    "\n",
    "let 3a_2 wire1 wire2"
   ]
  }
 ],
 "metadata": {
  "kernelspec": {
   "display_name": ".NET (F#)",
   "language": "F#",
   "name": ".net-fsharp"
  },
  "language_info": {
   "file_extension": ".fs",
   "mimetype": "text/x-fsharp",
   "name": "C#",
   "pygments_lexer": "fsharp",
   "version": "4.5"
  }
 },
 "nbformat": 4,
 "nbformat_minor": 2
}
