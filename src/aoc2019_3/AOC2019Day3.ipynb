{
 "cells": [
  {
   "cell_type": "markdown",
   "metadata": {},
   "source": [
    "# Advent of Code 2019 Day 3 - Intersections and Manhattan Distance\n",
    "\n",
    "The problem for Day 3 provides a series of line segments and asks for the closest intersection to the starting point.  The full problem statement can be found on the [Advent of Code][1] website.  The key portions of the problem statement are below.\n",
    "\n",
    "## Day 3a\n",
    "\n",
    "> ... two wires are connected to a central port and extend outward on a grid. You trace the path each wire takes as it leaves the central port, one wire per line of text (your puzzle input).\n",
    ">\n",
    "> The wires twist and turn, but the two wires occasionally cross paths. To fix the circuit, you need to find the intersection point closest to the central port. Because the wires are on a grid, use the Manhattan distance for this measurement. ...\n",
    "\n",
    "# Solution - Day 3a\n",
    "\n",
    "There are a few items to consider in the problem statement.  \n",
    "\n",
    "1. We are not interested in situations where a single wire intersects with itself.\n",
    "1. Intersections are between [line segments][2], not lines (which are a geometric construct).  In short, a line segment is a finite portion of a line with a start point, an end point, and a length.  The implication is that there are situations where two lines may intersect but line segments on those lines do not.\n",
    "1. The wires are on a grid and we have to use [Manhattan distance][3] to calculate the distance from the central port. Manhattan distance or Taxicab geometry states that the distance between two points \"is the sum of the absolute differences of their Cartesian coordinates\".  For example, the distance from `(1,2)` to `(7,8)` is `12` (`|7-1|+|8-2|`)."
   ]
  },
  {
   "cell_type": "markdown",
   "metadata": {},
   "source": [
    "[1] https://adventofcode.com/2019/day/3\n",
    "[2] http://www.differencebetween.net/science/difference-between-line-and-line-segment/\n",
    "[3] https://en.wikipedia.org/wiki/Taxicab_geometry\n",
    "[4] Bentley-Ottmann algorithm"
   ]
  },
  {
   "cell_type": "code",
   "execution_count": 5,
   "metadata": {},
   "outputs": [
    {
     "name": "stdout",
     "output_type": "stream",
     "text": [
      "5\n"
     ]
    },
    {
     "data": {
      "text/html": [
       "<null>"
      ]
     },
     "execution_count": 5,
     "metadata": {},
     "output_type": "execute_result"
    }
   ],
   "source": [
    "/// implement:\n",
    "/// https://github.com/pgkelley4/line-segments-intersect/blob/master/js/line-segments-intersect.js\n",
    "/// https://stackoverflow.com/questions/563198/how-do-you-detect-where-two-line-segments-intersect\n",
    "/// https://www.geeksforgeeks.org/check-if-two-given-line-segments-intersect/\n",
    "/// https://stackoverflow.com/questions/563198/how-do-you-detect-where-two-line-segments-intersect/565282#565282\n",
    "/// https://bell0bytes.eu/intersection-of-line-segments/\n",
    "/// https://en.wikipedia.org/wiki/Line_segment_intersection\n",
    "/// https://stackoverflow.com/questions/385305/efficient-maths-algorithm-to-calculate-intersections\n",
    "/// http://mathonline.wikidot.com/finding-points-of-intersection-of-two-lines\n",
    "/// \n",
    "/// https://en.wikipedia.org/wiki/Taxicab_geometry\n",
    "/// https://en.wikipedia.org/wiki/Bentley–Ottmann_algorithm\n",
    "\n",
    "let x = 5\n",
    "\n",
    "printfn \"%d\" x"
   ]
  },
  {
   "cell_type": "markdown",
   "metadata": {},
   "source": [
    "## Strategies\n",
    "\n",
    "There are two ways to solve the problem for 3a.\n",
    "\n",
    "1. Create the line segments for each wire, and check which line segments intersect.  For this, we can use the [Bentley-Ottmann algorithm][4].\n",
    "1. Find all the integer-coordinates covered by the line segments.  Check which coordinates are the same in both sets.\n",
    "\n",
    "## Solution 3a.1 - Bentley-Ottmann algorithm\n",
    "\n",
    "## Solution 3a.2 - Check discrete coordinates\n",
    "\n",
    "For this solution, we must construct a set of all the discrete (integer) coordinates that a wire goes through."
   ]
  },
  {
   "cell_type": "code",
   "execution_count": null,
   "metadata": {},
   "outputs": [],
   "source": [
    "\n",
    "\n",
    "let moveToCoords startPoint direction distance =\n",
    "  x\n",
    "\n",
    "let 3a_2 wire1 wire2"
   ]
  },
  {
   "cell_type": "code",
   "execution_count": null,
   "metadata": {},
   "outputs": [],
   "source": []
  },
  {
   "cell_type": "code",
   "execution_count": null,
   "metadata": {},
   "outputs": [],
   "source": []
  }
 ],
 "metadata": {
  "kernelspec": {
   "display_name": ".NET (F#)",
   "language": "F#",
   "name": ".net-fsharp"
  },
  "language_info": {
   "file_extension": ".fs",
   "mimetype": "text/x-fsharp",
   "name": "C#",
   "pygments_lexer": "fsharp",
   "version": "4.5"
  }
 },
 "nbformat": 4,
 "nbformat_minor": 2
}
