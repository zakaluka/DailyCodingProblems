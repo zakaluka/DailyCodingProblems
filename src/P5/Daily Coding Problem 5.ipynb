{
 "cells": [
  {
   "cell_type": "markdown",
   "metadata": {},
   "source": [
    "# Daily Coding Problem 5\n",
    "\n",
    "This problem was asked by Jane Street.\n",
    "\n",
    "`cons(a, b)` constructs a pair, and `car(pair)` and `cdr(pair)` returns the first and last element of that pair. For example, `car(cons(3, 4))` returns `3`, and `cdr(cons(3, 4))` returns `4`.\n",
    "\n",
    "Given this implementation of cons:\n",
    "\n",
    "```python\n",
    "def cons(a, b):\n",
    "    def pair(f):\n",
    "        return f(a, b)\n",
    "    return pair\n",
    "```\n",
    "\n",
    "Implement `car` and `cdr`.\n",
    "\n",
    "# Solution\n",
    "\n",
    "This is not a difficult problem, but requires that the person understand how to use functions as first-class members of the language.  Admittedly, python is not a language I use often.  I personally prefer statically typed languages and the compile-time goodness that comes along with them.\n",
    "\n",
    "Regardless, the solution is quite simple.  The key is that `cons` returns a function that expects a function as an argument.  That argument is what must, in turn, return the correct value from the pair.\n",
    "\n",
    "First, let's put the `cons` function into scope."
   ]
  },
  {
   "cell_type": "code",
   "execution_count": 1,
   "metadata": {
    "ExecuteTime": {
     "end_time": "2019-06-07T02:48:48.399745Z",
     "start_time": "2019-06-07T02:48:48.396613Z"
    }
   },
   "outputs": [],
   "source": [
    "def cons(a, b):\n",
    "    def pair(f):\n",
    "        return f(a, b)\n",
    "    return pair"
   ]
  },
  {
   "cell_type": "markdown",
   "metadata": {},
   "source": [
    "## Implementation of `car`\n",
    "\n",
    "As the problem states, `car` needs to return the first element of the pair."
   ]
  },
  {
   "cell_type": "code",
   "execution_count": 2,
   "metadata": {
    "ExecuteTime": {
     "end_time": "2019-06-07T02:48:48.408657Z",
     "start_time": "2019-06-07T02:48:48.403559Z"
    }
   },
   "outputs": [],
   "source": [
    "def car(cns):\n",
    "    # Returns the first parameter passed to the function.\n",
    "    def fst(x, y):\n",
    "        return x\n",
    "    return cns(fst)"
   ]
  },
  {
   "cell_type": "markdown",
   "metadata": {},
   "source": [
    "## Implementation of `cdr`\n",
    "\n",
    "`cdr` needs to return the second element of the pair."
   ]
  },
  {
   "cell_type": "code",
   "execution_count": 3,
   "metadata": {
    "ExecuteTime": {
     "end_time": "2019-06-07T02:48:48.417366Z",
     "start_time": "2019-06-07T02:48:48.412396Z"
    }
   },
   "outputs": [],
   "source": [
    "def cdr(cns):\n",
    "    # Returns the second parameter passed to the function.\n",
    "    def snd(x, y):\n",
    "        return y\n",
    "    return cns(snd)"
   ]
  },
  {
   "cell_type": "markdown",
   "metadata": {},
   "source": [
    "# Testing\n",
    "\n",
    "We can perform some basic test to ensure that these implementation work correctly.  Since the problem did not specify any test cases, i made some up using different types."
   ]
  },
  {
   "cell_type": "code",
   "execution_count": 4,
   "metadata": {
    "ExecuteTime": {
     "end_time": "2019-06-07T02:48:48.425646Z",
     "start_time": "2019-06-07T02:48:48.418867Z"
    }
   },
   "outputs": [],
   "source": [
    "a = cons(1, 2)\n",
    "b = cons('a', 'b')\n",
    "c = cons(5.0, 6.0)\n",
    "d = cons(True, False)"
   ]
  },
  {
   "cell_type": "code",
   "execution_count": 5,
   "metadata": {
    "ExecuteTime": {
     "end_time": "2019-06-07T02:48:48.437857Z",
     "start_time": "2019-06-07T02:48:48.429400Z"
    }
   },
   "outputs": [
    {
     "name": "stdout",
     "output_type": "stream",
     "text": [
      "a:  1 , 2\n",
      "b:  a , b\n",
      "c:  5.0 , 6.0\n",
      "d:  True , False\n"
     ]
    }
   ],
   "source": [
    "print ('a: ', car(a), ',', cdr(a))\n",
    "print ('b: ', car(b), ',', cdr(b))\n",
    "print ('c: ', car(c), ',', cdr(c))\n",
    "print ('d: ', car(d), ',', cdr(d))"
   ]
  },
  {
   "cell_type": "markdown",
   "metadata": {},
   "source": [
    "# Conclusion\n",
    "\n",
    "While this wasn't a difficult problem by any means, it was a fun little exercise that demonstrates the use of functions as first class citizens of a language."
   ]
  }
 ],
 "metadata": {
  "kernelspec": {
   "display_name": "Python 3",
   "language": "python",
   "name": "python3"
  },
  "language_info": {
   "codemirror_mode": {
    "name": "ipython",
    "version": 3
   },
   "file_extension": ".py",
   "mimetype": "text/x-python",
   "name": "python",
   "nbconvert_exporter": "python",
   "pygments_lexer": "ipython3",
   "version": "3.7.3"
  },
  "toc": {
   "base_numbering": 1,
   "nav_menu": {},
   "number_sections": true,
   "sideBar": false,
   "skip_h1_title": false,
   "title_cell": "Table of Contents",
   "title_sidebar": "Contents",
   "toc_cell": true,
   "toc_position": {},
   "toc_section_display": true,
   "toc_window_display": false
  }
 },
 "nbformat": 4,
 "nbformat_minor": 2
}
